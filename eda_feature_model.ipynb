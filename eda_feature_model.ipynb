{
 "cells": [
  {
   "cell_type": "markdown",
   "metadata": {},
   "source": [
    "## Identifying Duplicate Questions"
   ]
  },
  {
   "cell_type": "markdown",
   "metadata": {},
   "source": [
    "Over 100 million people visit Quora every month, so it's no surprise that many people ask similar (or the same) questions. Various questions with the same intent can cause people to spend extra time searching for the best answer to their question, and results in members answering multiple versions of the same question. Quora uses random forest to identify duplicated questions to provide a better experience to active seekers and writers, and offer more value to both of these groups in the long term.\n",
    "Follow the steps outlined below to build the appropriate classifier model. \n",
    "\n",
    "\n",
    "Steps:\n",
    "- Download data\n",
    "- Exploration\n",
    "- Cleaning\n",
    "- Feature Engineering\n",
    "- Modeling\n",
    "\n",
    "By the end of this project you should have **a presentation that describes the model you built** and its **performance**. \n"
   ]
  },
  {
   "cell_type": "code",
   "execution_count": 1,
   "metadata": {},
   "outputs": [],
   "source": [
    "import pandas as pd\n",
    "import numpy as np\n",
    "\n",
    "import matplotlib.pyplot as plt \n",
    "import seaborn as sns\n",
    "import sklearn"
   ]
  },
  {
   "cell_type": "code",
   "execution_count": 2,
   "metadata": {},
   "outputs": [],
   "source": [
    "df = pd.read_csv(\"train.csv\")"
   ]
  },
  {
   "cell_type": "markdown",
   "metadata": {},
   "source": [
    "### Exploration"
   ]
  },
  {
   "cell_type": "code",
   "execution_count": 3,
   "metadata": {
    "scrolled": true
   },
   "outputs": [
    {
     "name": "stdout",
     "output_type": "stream",
     "text": [
      "<class 'pandas.core.frame.DataFrame'>\n",
      "RangeIndex: 404290 entries, 0 to 404289\n",
      "Data columns (total 6 columns):\n",
      " #   Column        Non-Null Count   Dtype \n",
      "---  ------        --------------   ----- \n",
      " 0   id            404290 non-null  int64 \n",
      " 1   qid1          404290 non-null  int64 \n",
      " 2   qid2          404290 non-null  int64 \n",
      " 3   question1     404289 non-null  object\n",
      " 4   question2     404288 non-null  object\n",
      " 5   is_duplicate  404290 non-null  int64 \n",
      "dtypes: int64(4), object(2)\n",
      "memory usage: 18.5+ MB\n"
     ]
    }
   ],
   "source": [
    "df.info()"
   ]
  },
  {
   "cell_type": "markdown",
   "metadata": {},
   "source": [
    "#### Note\n",
    "There is no designated test.csv file. The train.csv file is the entire dataset. Part of the data in the train.csv file should be set aside to act as the final testing data."
   ]
  },
  {
   "cell_type": "code",
   "execution_count": 4,
   "metadata": {},
   "outputs": [
    {
     "data": {
      "text/plain": [
       "id              0\n",
       "qid1            0\n",
       "qid2            0\n",
       "question1       1\n",
       "question2       2\n",
       "is_duplicate    0\n",
       "dtype: int64"
      ]
     },
     "execution_count": 4,
     "metadata": {},
     "output_type": "execute_result"
    }
   ],
   "source": [
    "df.isnull().sum()"
   ]
  },
  {
   "cell_type": "code",
   "execution_count": 5,
   "metadata": {},
   "outputs": [
    {
     "data": {
      "text/html": [
       "<div>\n",
       "<style scoped>\n",
       "    .dataframe tbody tr th:only-of-type {\n",
       "        vertical-align: middle;\n",
       "    }\n",
       "\n",
       "    .dataframe tbody tr th {\n",
       "        vertical-align: top;\n",
       "    }\n",
       "\n",
       "    .dataframe thead th {\n",
       "        text-align: right;\n",
       "    }\n",
       "</style>\n",
       "<table border=\"1\" class=\"dataframe\">\n",
       "  <thead>\n",
       "    <tr style=\"text-align: right;\">\n",
       "      <th></th>\n",
       "      <th>id</th>\n",
       "      <th>qid1</th>\n",
       "      <th>qid2</th>\n",
       "      <th>question1</th>\n",
       "      <th>question2</th>\n",
       "      <th>is_duplicate</th>\n",
       "    </tr>\n",
       "  </thead>\n",
       "  <tbody>\n",
       "    <tr>\n",
       "      <th>105780</th>\n",
       "      <td>105780</td>\n",
       "      <td>174363</td>\n",
       "      <td>174364</td>\n",
       "      <td>How can I develop android app?</td>\n",
       "      <td>NaN</td>\n",
       "      <td>0</td>\n",
       "    </tr>\n",
       "    <tr>\n",
       "      <th>201841</th>\n",
       "      <td>201841</td>\n",
       "      <td>303951</td>\n",
       "      <td>174364</td>\n",
       "      <td>How can I create an Android app?</td>\n",
       "      <td>NaN</td>\n",
       "      <td>0</td>\n",
       "    </tr>\n",
       "    <tr>\n",
       "      <th>363362</th>\n",
       "      <td>363362</td>\n",
       "      <td>493340</td>\n",
       "      <td>493341</td>\n",
       "      <td>NaN</td>\n",
       "      <td>My Chinese name is Haichao Yu. What English na...</td>\n",
       "      <td>0</td>\n",
       "    </tr>\n",
       "  </tbody>\n",
       "</table>\n",
       "</div>"
      ],
      "text/plain": [
       "            id    qid1    qid2                         question1  \\\n",
       "105780  105780  174363  174364    How can I develop android app?   \n",
       "201841  201841  303951  174364  How can I create an Android app?   \n",
       "363362  363362  493340  493341                               NaN   \n",
       "\n",
       "                                                question2  is_duplicate  \n",
       "105780                                                NaN             0  \n",
       "201841                                                NaN             0  \n",
       "363362  My Chinese name is Haichao Yu. What English na...             0  "
      ]
     },
     "execution_count": 5,
     "metadata": {},
     "output_type": "execute_result"
    }
   ],
   "source": [
    "# Investigate the 3 rows that have the missing values\n",
    "df[df.isnull().any(axis=1)]"
   ]
  },
  {
   "cell_type": "code",
   "execution_count": 6,
   "metadata": {},
   "outputs": [],
   "source": [
    "# Drop the missing values from the dataset\n",
    "df.dropna(subset=['question1', 'question2'], inplace=True)"
   ]
  },
  {
   "cell_type": "code",
   "execution_count": 7,
   "metadata": {
    "scrolled": true
   },
   "outputs": [
    {
     "name": "stdout",
     "output_type": "stream",
     "text": [
      "Not Duplicate Questions: 255024 \n",
      "Duplicate Questions: 149263\n",
      "percent of duplicates 0.37\n"
     ]
    }
   ],
   "source": [
    "print('Not Duplicate Questions:', df[df.is_duplicate == 0].count()[0], '\\nDuplicate Questions:', df[df.is_duplicate == 1].count()[0])\n",
    "print('percent of duplicates', round((df[df.is_duplicate == 1].count()[0]/df.count()[0]),2))"
   ]
  },
  {
   "cell_type": "code",
   "execution_count": 8,
   "metadata": {},
   "outputs": [
    {
     "data": {
      "image/png": "[encoded data removed]",
      "text/plain": [
       "<Figure size 640x480 with 1 Axes>"
      ]
     },
     "metadata": {},
     "output_type": "display_data"
    }
   ],
   "source": [
    "# Plot as a bar chart to see the percentage of duplicate and not duplicate labels\n",
    "labels = ['Not Duplicate', 'Duplicate']\n",
    "\n",
    "percentages = df['is_duplicate'].value_counts() / len(df) * 100\n",
    "\n",
    "plt.bar(labels, percentages)\n",
    "plt.title('Percentage of not duplicate vs. duplicate questions')\n",
    "plt.ylabel('Percentage')\n",
    "plt.show()"
   ]
  },
  {
   "cell_type": "markdown",
   "metadata": {},
   "source": [
    "The dataset contains 255,024 unique questions and 149,263 questions that are duplicates. This information is crucial in understanding the dataset and approaching the model to identify duplicate questions. However, there is a noticeable imbalance between the number of non-duplicate and duplicate questions. This may affect the model's performance, making it biased towards classifying questions as non-duplicates. To address this issue, undersampling is employed to balance the dataset and improve the model's performance."
   ]
  },
  {
   "cell_type": "code",
   "execution_count": 9,
   "metadata": {},
   "outputs": [
    {
     "data": {
      "text/html": [
       "<div>\n",
       "<style scoped>\n",
       "    .dataframe tbody tr th:only-of-type {\n",
       "        vertical-align: middle;\n",
       "    }\n",
       "\n",
       "    .dataframe tbody tr th {\n",
       "        vertical-align: top;\n",
       "    }\n",
       "\n",
       "    .dataframe thead th {\n",
       "        text-align: right;\n",
       "    }\n",
       "</style>\n",
       "<table border=\"1\" class=\"dataframe\">\n",
       "  <thead>\n",
       "    <tr style=\"text-align: right;\">\n",
       "      <th></th>\n",
       "      <th>id</th>\n",
       "      <th>qid1</th>\n",
       "      <th>qid2</th>\n",
       "      <th>question1</th>\n",
       "      <th>question2</th>\n",
       "      <th>is_duplicate</th>\n",
       "    </tr>\n",
       "  </thead>\n",
       "  <tbody>\n",
       "    <tr>\n",
       "      <th>0</th>\n",
       "      <td>316351</td>\n",
       "      <td>441386</td>\n",
       "      <td>441387</td>\n",
       "      <td>What is the best business online?</td>\n",
       "      <td>What are the best businesses online?</td>\n",
       "      <td>1</td>\n",
       "    </tr>\n",
       "    <tr>\n",
       "      <th>1</th>\n",
       "      <td>131099</td>\n",
       "      <td>85303</td>\n",
       "      <td>111285</td>\n",
       "      <td>What are the best technology?</td>\n",
       "      <td>What are the best technologies?</td>\n",
       "      <td>1</td>\n",
       "    </tr>\n",
       "    <tr>\n",
       "      <th>2</th>\n",
       "      <td>273807</td>\n",
       "      <td>392331</td>\n",
       "      <td>392332</td>\n",
       "      <td>What fields or subfields you know of, if any, ...</td>\n",
       "      <td>Is being constantly professional overrated?</td>\n",
       "      <td>0</td>\n",
       "    </tr>\n",
       "    <tr>\n",
       "      <th>3</th>\n",
       "      <td>167</td>\n",
       "      <td>335</td>\n",
       "      <td>336</td>\n",
       "      <td>Which is correct - 'Looking forward to speak w...</td>\n",
       "      <td>Which is correct: \"speak with\" or \"speak to\"?</td>\n",
       "      <td>0</td>\n",
       "    </tr>\n",
       "    <tr>\n",
       "      <th>4</th>\n",
       "      <td>29186</td>\n",
       "      <td>54029</td>\n",
       "      <td>54030</td>\n",
       "      <td>What brands does Tom Ford wear on himself?</td>\n",
       "      <td>My son wants to wear my wedding dress to see w...</td>\n",
       "      <td>0</td>\n",
       "    </tr>\n",
       "  </tbody>\n",
       "</table>\n",
       "</div>"
      ],
      "text/plain": [
       "       id    qid1    qid2                                          question1  \\\n",
       "0  316351  441386  441387                  What is the best business online?   \n",
       "1  131099   85303  111285                      What are the best technology?   \n",
       "2  273807  392331  392332  What fields or subfields you know of, if any, ...   \n",
       "3     167     335     336  Which is correct - 'Looking forward to speak w...   \n",
       "4   29186   54029   54030         What brands does Tom Ford wear on himself?   \n",
       "\n",
       "                                           question2  is_duplicate  \n",
       "0               What are the best businesses online?             1  \n",
       "1                    What are the best technologies?             1  \n",
       "2        Is being constantly professional overrated?             0  \n",
       "3      Which is correct: \"speak with\" or \"speak to\"?             0  \n",
       "4  My son wants to wear my wedding dress to see w...             0  "
      ]
     },
     "execution_count": 9,
     "metadata": {},
     "output_type": "execute_result"
    }
   ],
   "source": [
    "# Select randomly a subset of non-duplicate questions to match the number of duplicate questions\n",
    "duplicates = df[df['is_duplicate'] == 1] # Separate the duplicate and non-duplicate questions\n",
    "non_duplicates = df[df['is_duplicate'] == 0]\n",
    "num_duplicates = len(duplicates) # Get the number of duplicate questions\n",
    "non_duplicates_sampled = non_duplicates.sample(num_duplicates) # Select a subset of non-duplicate questions\n",
    "\n",
    "# Combine the sampled non-duplicate questions with the original duplicate questions\n",
    "balanced_df = pd.concat([duplicates, non_duplicates_sampled], axis=0) \n",
    "\n",
    "# Shuffle the dataset to ensure that the duplicate and non-duplicate questions are mixed\n",
    "balanced_df = balanced_df.sample(frac=1).reset_index(drop=True)\n",
    "balanced_df.head()"
   ]
  },
  {
   "cell_type": "code",
   "execution_count": 10,
   "metadata": {},
   "outputs": [
    {
     "data": {
      "text/plain": [
       "1    149263\n",
       "0    149263\n",
       "Name: is_duplicate, dtype: int64"
      ]
     },
     "execution_count": 10,
     "metadata": {},
     "output_type": "execute_result"
    }
   ],
   "source": [
    "# Now, let's check if our dataset is more balanced\n",
    "balanced_df['is_duplicate'].value_counts()"
   ]
  },
  {
   "cell_type": "markdown",
   "metadata": {},
   "source": [
    "Once we have splitted our dataset, we will only utilize the training set for cleaning, analyzing, and feature engineering, while the testing set will be kept separate and solely used to evaluate the performance of our model. "
   ]
  },
  {
   "cell_type": "markdown",
   "metadata": {},
   "source": [
    "### Cleaning\n",
    "\n",
    "- Tokenization\n",
    "- Stopwords cleaning\n",
    "- Removing punctuation\n",
    "- Normalizing\n",
    "- Stemming"
   ]
  },
  {
   "cell_type": "markdown",
   "metadata": {},
   "source": [
    "### Punctuation"
   ]
  },
  {
   "cell_type": "code",
   "execution_count": 11,
   "metadata": {},
   "outputs": [
    {
     "data": {
      "text/plain": [
       "'!\"#$%&\\'()*+,-./:;<=>?@[\\\\]^_`{|}~'"
      ]
     },
     "execution_count": 11,
     "metadata": {},
     "output_type": "execute_result"
    }
   ],
   "source": [
    "import string\n",
    "string.punctuation"
   ]
  },
  {
   "cell_type": "code",
   "execution_count": 12,
   "metadata": {},
   "outputs": [
    {
     "data": {
      "text/html": [
       "<div>\n",
       "<style scoped>\n",
       "    .dataframe tbody tr th:only-of-type {\n",
       "        vertical-align: middle;\n",
       "    }\n",
       "\n",
       "    .dataframe tbody tr th {\n",
       "        vertical-align: top;\n",
       "    }\n",
       "\n",
       "    .dataframe thead th {\n",
       "        text-align: right;\n",
       "    }\n",
       "</style>\n",
       "<table border=\"1\" class=\"dataframe\">\n",
       "  <thead>\n",
       "    <tr style=\"text-align: right;\">\n",
       "      <th></th>\n",
       "      <th>id</th>\n",
       "      <th>qid1</th>\n",
       "      <th>qid2</th>\n",
       "      <th>question1</th>\n",
       "      <th>question2</th>\n",
       "      <th>is_duplicate</th>\n",
       "      <th>question1_cleaned</th>\n",
       "      <th>question2_cleaned</th>\n",
       "    </tr>\n",
       "  </thead>\n",
       "  <tbody>\n",
       "    <tr>\n",
       "      <th>0</th>\n",
       "      <td>316351</td>\n",
       "      <td>441386</td>\n",
       "      <td>441387</td>\n",
       "      <td>What is the best business online?</td>\n",
       "      <td>What are the best businesses online?</td>\n",
       "      <td>1</td>\n",
       "      <td>What is the best business online</td>\n",
       "      <td>What are the best businesses online</td>\n",
       "    </tr>\n",
       "    <tr>\n",
       "      <th>1</th>\n",
       "      <td>131099</td>\n",
       "      <td>85303</td>\n",
       "      <td>111285</td>\n",
       "      <td>What are the best technology?</td>\n",
       "      <td>What are the best technologies?</td>\n",
       "      <td>1</td>\n",
       "      <td>What are the best technology</td>\n",
       "      <td>What are the best technologies</td>\n",
       "    </tr>\n",
       "  </tbody>\n",
       "</table>\n",
       "</div>"
      ],
      "text/plain": [
       "       id    qid1    qid2                          question1  \\\n",
       "0  316351  441386  441387  What is the best business online?   \n",
       "1  131099   85303  111285      What are the best technology?   \n",
       "\n",
       "                              question2  is_duplicate  \\\n",
       "0  What are the best businesses online?             1   \n",
       "1       What are the best technologies?             1   \n",
       "\n",
       "                  question1_cleaned                    question2_cleaned  \n",
       "0  What is the best business online  What are the best businesses online  \n",
       "1      What are the best technology       What are the best technologies  "
      ]
     },
     "execution_count": 12,
     "metadata": {},
     "output_type": "execute_result"
    }
   ],
   "source": [
    "# Define a function to remove punctuation in our \"question1\" and \"question2\" columns\n",
    "def remove_punct(text):\n",
    "    text = \"\".join([char for char in text if char not in string.punctuation])\n",
    "    return text\n",
    "\n",
    "balanced_df = balanced_df.assign( # Assigning the new 2 columns in the dataframe\n",
    "    question1_cleaned=balanced_df[\"question1\"].apply(remove_punct),\n",
    "    question2_cleaned=balanced_df[\"question2\"].apply(remove_punct)\n",
    ")\n",
    "\n",
    "balanced_df.head(2)"
   ]
  },
  {
   "cell_type": "code",
   "execution_count": 13,
   "metadata": {},
   "outputs": [
    {
     "data": {
      "text/html": [
       "<div>\n",
       "<style scoped>\n",
       "    .dataframe tbody tr th:only-of-type {\n",
       "        vertical-align: middle;\n",
       "    }\n",
       "\n",
       "    .dataframe tbody tr th {\n",
       "        vertical-align: top;\n",
       "    }\n",
       "\n",
       "    .dataframe thead th {\n",
       "        text-align: right;\n",
       "    }\n",
       "</style>\n",
       "<table border=\"1\" class=\"dataframe\">\n",
       "  <thead>\n",
       "    <tr style=\"text-align: right;\">\n",
       "      <th></th>\n",
       "      <th>id</th>\n",
       "      <th>is_duplicate</th>\n",
       "      <th>question1_cleaned</th>\n",
       "      <th>question2_cleaned</th>\n",
       "    </tr>\n",
       "  </thead>\n",
       "  <tbody>\n",
       "    <tr>\n",
       "      <th>0</th>\n",
       "      <td>316351</td>\n",
       "      <td>1</td>\n",
       "      <td>What is the best business online</td>\n",
       "      <td>What are the best businesses online</td>\n",
       "    </tr>\n",
       "    <tr>\n",
       "      <th>1</th>\n",
       "      <td>131099</td>\n",
       "      <td>1</td>\n",
       "      <td>What are the best technology</td>\n",
       "      <td>What are the best technologies</td>\n",
       "    </tr>\n",
       "  </tbody>\n",
       "</table>\n",
       "</div>"
      ],
      "text/plain": [
       "       id  is_duplicate                 question1_cleaned  \\\n",
       "0  316351             1  What is the best business online   \n",
       "1  131099             1      What are the best technology   \n",
       "\n",
       "                     question2_cleaned  \n",
       "0  What are the best businesses online  \n",
       "1       What are the best technologies  "
      ]
     },
     "execution_count": 13,
     "metadata": {},
     "output_type": "execute_result"
    }
   ],
   "source": [
    "# Drop the columns that are not going to be used anymore\n",
    "balanced_df = balanced_df.drop(['question1', 'question2','qid1','qid2'], axis=1)\n",
    "balanced_df.head(2)"
   ]
  },
  {
   "cell_type": "markdown",
   "metadata": {},
   "source": [
    "### Tokenization and applying lower case"
   ]
  },
  {
   "cell_type": "code",
   "execution_count": 14,
   "metadata": {},
   "outputs": [],
   "source": [
    "# Import regular expression library\n",
    "import re"
   ]
  },
  {
   "cell_type": "code",
   "execution_count": 15,
   "metadata": {
    "scrolled": true
   },
   "outputs": [
    {
     "data": {
      "text/html": [
       "<div>\n",
       "<style scoped>\n",
       "    .dataframe tbody tr th:only-of-type {\n",
       "        vertical-align: middle;\n",
       "    }\n",
       "\n",
       "    .dataframe tbody tr th {\n",
       "        vertical-align: top;\n",
       "    }\n",
       "\n",
       "    .dataframe thead th {\n",
       "        text-align: right;\n",
       "    }\n",
       "</style>\n",
       "<table border=\"1\" class=\"dataframe\">\n",
       "  <thead>\n",
       "    <tr style=\"text-align: right;\">\n",
       "      <th></th>\n",
       "      <th>id</th>\n",
       "      <th>is_duplicate</th>\n",
       "      <th>question1_cleaned</th>\n",
       "      <th>question2_cleaned</th>\n",
       "      <th>question_1_tokenized</th>\n",
       "      <th>question_2_tokenized</th>\n",
       "    </tr>\n",
       "  </thead>\n",
       "  <tbody>\n",
       "    <tr>\n",
       "      <th>0</th>\n",
       "      <td>316351</td>\n",
       "      <td>1</td>\n",
       "      <td>What is the best business online</td>\n",
       "      <td>What are the best businesses online</td>\n",
       "      <td>[what, is, the, best, business, online]</td>\n",
       "      <td>[what, are, the, best, businesses, online]</td>\n",
       "    </tr>\n",
       "    <tr>\n",
       "      <th>1</th>\n",
       "      <td>131099</td>\n",
       "      <td>1</td>\n",
       "      <td>What are the best technology</td>\n",
       "      <td>What are the best technologies</td>\n",
       "      <td>[what, are, the, best, technology]</td>\n",
       "      <td>[what, are, the, best, technologies]</td>\n",
       "    </tr>\n",
       "  </tbody>\n",
       "</table>\n",
       "</div>"
      ],
      "text/plain": [
       "       id  is_duplicate                 question1_cleaned  \\\n",
       "0  316351             1  What is the best business online   \n",
       "1  131099             1      What are the best technology   \n",
       "\n",
       "                     question2_cleaned  \\\n",
       "0  What are the best businesses online   \n",
       "1       What are the best technologies   \n",
       "\n",
       "                      question_1_tokenized  \\\n",
       "0  [what, is, the, best, business, online]   \n",
       "1       [what, are, the, best, technology]   \n",
       "\n",
       "                         question_2_tokenized  \n",
       "0  [what, are, the, best, businesses, online]  \n",
       "1        [what, are, the, best, technologies]  "
      ]
     },
     "execution_count": 15,
     "metadata": {},
     "output_type": "execute_result"
    }
   ],
   "source": [
    "# Define a function to split our sentences into a list of words\n",
    "def tokenize(text):\n",
    "    tokens = text.split()\n",
    "    return tokens\n",
    "\n",
    "balanced_df['question_1_tokenized'] = balanced_df['question1_cleaned'].apply(lambda x: tokenize(x.lower()))\n",
    "balanced_df['question_2_tokenized'] = balanced_df['question2_cleaned'].apply(lambda x: tokenize(x.lower()))\n",
    "balanced_df.head(2)"
   ]
  },
  {
   "cell_type": "code",
   "execution_count": 16,
   "metadata": {},
   "outputs": [
    {
     "data": {
      "text/html": [
       "<div>\n",
       "<style scoped>\n",
       "    .dataframe tbody tr th:only-of-type {\n",
       "        vertical-align: middle;\n",
       "    }\n",
       "\n",
       "    .dataframe tbody tr th {\n",
       "        vertical-align: top;\n",
       "    }\n",
       "\n",
       "    .dataframe thead th {\n",
       "        text-align: right;\n",
       "    }\n",
       "</style>\n",
       "<table border=\"1\" class=\"dataframe\">\n",
       "  <thead>\n",
       "    <tr style=\"text-align: right;\">\n",
       "      <th></th>\n",
       "      <th>id</th>\n",
       "      <th>is_duplicate</th>\n",
       "      <th>question_1_tokenized</th>\n",
       "      <th>question_2_tokenized</th>\n",
       "    </tr>\n",
       "  </thead>\n",
       "  <tbody>\n",
       "    <tr>\n",
       "      <th>0</th>\n",
       "      <td>316351</td>\n",
       "      <td>1</td>\n",
       "      <td>[what, is, the, best, business, online]</td>\n",
       "      <td>[what, are, the, best, businesses, online]</td>\n",
       "    </tr>\n",
       "    <tr>\n",
       "      <th>1</th>\n",
       "      <td>131099</td>\n",
       "      <td>1</td>\n",
       "      <td>[what, are, the, best, technology]</td>\n",
       "      <td>[what, are, the, best, technologies]</td>\n",
       "    </tr>\n",
       "  </tbody>\n",
       "</table>\n",
       "</div>"
      ],
      "text/plain": [
       "       id  is_duplicate                     question_1_tokenized  \\\n",
       "0  316351             1  [what, is, the, best, business, online]   \n",
       "1  131099             1       [what, are, the, best, technology]   \n",
       "\n",
       "                         question_2_tokenized  \n",
       "0  [what, are, the, best, businesses, online]  \n",
       "1        [what, are, the, best, technologies]  "
      ]
     },
     "execution_count": 16,
     "metadata": {},
     "output_type": "execute_result"
    }
   ],
   "source": [
    "# Drop the previous columns\n",
    "balanced_df = balanced_df.drop(['question1_cleaned', 'question2_cleaned'], axis=1)\n",
    "balanced_df.head(2)"
   ]
  },
  {
   "cell_type": "markdown",
   "metadata": {},
   "source": [
    "### Stop Words"
   ]
  },
  {
   "cell_type": "code",
   "execution_count": 17,
   "metadata": {},
   "outputs": [
    {
     "data": {
      "text/plain": [
       "['i', 'me', 'my', 'myself', 'we']"
      ]
     },
     "execution_count": 17,
     "metadata": {},
     "output_type": "execute_result"
    }
   ],
   "source": [
    "# Import the NLTK package\n",
    "import nltk\n",
    "from nltk.corpus import stopwords\n",
    "\n",
    "# View the stopwords\n",
    "ENGstopwords = stopwords.words('english')\n",
    "ENGstopwords[0:5]"
   ]
  },
  {
   "cell_type": "code",
   "execution_count": 18,
   "metadata": {},
   "outputs": [
    {
     "data": {
      "text/html": [
       "<div>\n",
       "<style scoped>\n",
       "    .dataframe tbody tr th:only-of-type {\n",
       "        vertical-align: middle;\n",
       "    }\n",
       "\n",
       "    .dataframe tbody tr th {\n",
       "        vertical-align: top;\n",
       "    }\n",
       "\n",
       "    .dataframe thead th {\n",
       "        text-align: right;\n",
       "    }\n",
       "</style>\n",
       "<table border=\"1\" class=\"dataframe\">\n",
       "  <thead>\n",
       "    <tr style=\"text-align: right;\">\n",
       "      <th></th>\n",
       "      <th>id</th>\n",
       "      <th>is_duplicate</th>\n",
       "      <th>question_1_tokenized</th>\n",
       "      <th>question_2_tokenized</th>\n",
       "      <th>question1_non_stop</th>\n",
       "      <th>question2_non_stop</th>\n",
       "    </tr>\n",
       "  </thead>\n",
       "  <tbody>\n",
       "    <tr>\n",
       "      <th>0</th>\n",
       "      <td>316351</td>\n",
       "      <td>1</td>\n",
       "      <td>[what, is, the, best, business, online]</td>\n",
       "      <td>[what, are, the, best, businesses, online]</td>\n",
       "      <td>[best, business, online]</td>\n",
       "      <td>[best, businesses, online]</td>\n",
       "    </tr>\n",
       "    <tr>\n",
       "      <th>1</th>\n",
       "      <td>131099</td>\n",
       "      <td>1</td>\n",
       "      <td>[what, are, the, best, technology]</td>\n",
       "      <td>[what, are, the, best, technologies]</td>\n",
       "      <td>[best, technology]</td>\n",
       "      <td>[best, technologies]</td>\n",
       "    </tr>\n",
       "  </tbody>\n",
       "</table>\n",
       "</div>"
      ],
      "text/plain": [
       "       id  is_duplicate                     question_1_tokenized  \\\n",
       "0  316351             1  [what, is, the, best, business, online]   \n",
       "1  131099             1       [what, are, the, best, technology]   \n",
       "\n",
       "                         question_2_tokenized        question1_non_stop  \\\n",
       "0  [what, are, the, best, businesses, online]  [best, business, online]   \n",
       "1        [what, are, the, best, technologies]        [best, technology]   \n",
       "\n",
       "           question2_non_stop  \n",
       "0  [best, businesses, online]  \n",
       "1        [best, technologies]  "
      ]
     },
     "execution_count": 18,
     "metadata": {},
     "output_type": "execute_result"
    }
   ],
   "source": [
    "# Define a function to remove stopwords\n",
    "def remove_stopwords(tokenized_text):    \n",
    "    text = [word for word in tokenized_text if word not in ENGstopwords]\n",
    "    return text\n",
    "\n",
    "balanced_df['question1_non_stop'] = balanced_df['question_1_tokenized'].apply(lambda x: remove_stopwords(x))\n",
    "balanced_df['question2_non_stop'] = balanced_df['question_2_tokenized'].apply(lambda x: remove_stopwords(x))\n",
    "balanced_df.head(2)"
   ]
  },
  {
   "cell_type": "code",
   "execution_count": 19,
   "metadata": {},
   "outputs": [
    {
     "data": {
      "text/html": [
       "<div>\n",
       "<style scoped>\n",
       "    .dataframe tbody tr th:only-of-type {\n",
       "        vertical-align: middle;\n",
       "    }\n",
       "\n",
       "    .dataframe tbody tr th {\n",
       "        vertical-align: top;\n",
       "    }\n",
       "\n",
       "    .dataframe thead th {\n",
       "        text-align: right;\n",
       "    }\n",
       "</style>\n",
       "<table border=\"1\" class=\"dataframe\">\n",
       "  <thead>\n",
       "    <tr style=\"text-align: right;\">\n",
       "      <th></th>\n",
       "      <th>id</th>\n",
       "      <th>is_duplicate</th>\n",
       "      <th>question1_non_stop</th>\n",
       "      <th>question2_non_stop</th>\n",
       "    </tr>\n",
       "  </thead>\n",
       "  <tbody>\n",
       "    <tr>\n",
       "      <th>0</th>\n",
       "      <td>316351</td>\n",
       "      <td>1</td>\n",
       "      <td>[best, business, online]</td>\n",
       "      <td>[best, businesses, online]</td>\n",
       "    </tr>\n",
       "    <tr>\n",
       "      <th>1</th>\n",
       "      <td>131099</td>\n",
       "      <td>1</td>\n",
       "      <td>[best, technology]</td>\n",
       "      <td>[best, technologies]</td>\n",
       "    </tr>\n",
       "  </tbody>\n",
       "</table>\n",
       "</div>"
      ],
      "text/plain": [
       "       id  is_duplicate        question1_non_stop          question2_non_stop\n",
       "0  316351             1  [best, business, online]  [best, businesses, online]\n",
       "1  131099             1        [best, technology]        [best, technologies]"
      ]
     },
     "execution_count": 19,
     "metadata": {},
     "output_type": "execute_result"
    }
   ],
   "source": [
    "# Drop the previous columns\n",
    "balanced_df = balanced_df.drop(['question_1_tokenized', 'question_2_tokenized'], axis=1)\n",
    "balanced_df.head(2)"
   ]
  },
  {
   "cell_type": "markdown",
   "metadata": {},
   "source": [
    "### Stemming"
   ]
  },
  {
   "cell_type": "code",
   "execution_count": 20,
   "metadata": {},
   "outputs": [],
   "source": [
    "from nltk.stem import PorterStemmer"
   ]
  },
  {
   "cell_type": "code",
   "execution_count": 21,
   "metadata": {},
   "outputs": [],
   "source": [
    "# Create a stemmer object\n",
    "ps = PorterStemmer() # It will remove pre-defined stems\n",
    "\n",
    "# Define a function to stem the text\n",
    "def stemmed_text(words):\n",
    "    stemmed_words = [] # It initializes a new variable list\n",
    "    for word in words:\n",
    "        stemmed_words.append(ps.stem(word))\n",
    "    return stemmed_words"
   ]
  },
  {
   "cell_type": "code",
   "execution_count": 22,
   "metadata": {
    "scrolled": true
   },
   "outputs": [
    {
     "data": {
      "text/html": [
       "<div>\n",
       "<style scoped>\n",
       "    .dataframe tbody tr th:only-of-type {\n",
       "        vertical-align: middle;\n",
       "    }\n",
       "\n",
       "    .dataframe tbody tr th {\n",
       "        vertical-align: top;\n",
       "    }\n",
       "\n",
       "    .dataframe thead th {\n",
       "        text-align: right;\n",
       "    }\n",
       "</style>\n",
       "<table border=\"1\" class=\"dataframe\">\n",
       "  <thead>\n",
       "    <tr style=\"text-align: right;\">\n",
       "      <th></th>\n",
       "      <th>id</th>\n",
       "      <th>is_duplicate</th>\n",
       "      <th>question1_non_stop</th>\n",
       "      <th>question2_non_stop</th>\n",
       "      <th>question1_stem</th>\n",
       "      <th>question2_stem</th>\n",
       "    </tr>\n",
       "  </thead>\n",
       "  <tbody>\n",
       "    <tr>\n",
       "      <th>0</th>\n",
       "      <td>316351</td>\n",
       "      <td>1</td>\n",
       "      <td>[best, business, online]</td>\n",
       "      <td>[best, businesses, online]</td>\n",
       "      <td>[best, busi, onlin]</td>\n",
       "      <td>[best, busi, onlin]</td>\n",
       "    </tr>\n",
       "    <tr>\n",
       "      <th>1</th>\n",
       "      <td>131099</td>\n",
       "      <td>1</td>\n",
       "      <td>[best, technology]</td>\n",
       "      <td>[best, technologies]</td>\n",
       "      <td>[best, technolog]</td>\n",
       "      <td>[best, technolog]</td>\n",
       "    </tr>\n",
       "  </tbody>\n",
       "</table>\n",
       "</div>"
      ],
      "text/plain": [
       "       id  is_duplicate        question1_non_stop          question2_non_stop  \\\n",
       "0  316351             1  [best, business, online]  [best, businesses, online]   \n",
       "1  131099             1        [best, technology]        [best, technologies]   \n",
       "\n",
       "        question1_stem       question2_stem  \n",
       "0  [best, busi, onlin]  [best, busi, onlin]  \n",
       "1    [best, technolog]    [best, technolog]  "
      ]
     },
     "execution_count": 22,
     "metadata": {},
     "output_type": "execute_result"
    }
   ],
   "source": [
    "# Call up the function that applies \"stemmed_text\" to our columns in the data frame\n",
    "balanced_df['question1_stem'] = balanced_df['question1_non_stop'].apply(lambda x: stemmed_text(x))\n",
    "balanced_df['question2_stem'] = balanced_df['question2_non_stop'].apply(lambda x: stemmed_text(x))\n",
    "balanced_df.head(2)"
   ]
  },
  {
   "cell_type": "markdown",
   "metadata": {},
   "source": [
    "### Lemetization"
   ]
  },
  {
   "cell_type": "markdown",
   "metadata": {},
   "source": [
    "Prior to discarding the preceding columns, we will conduct a comparison of the alterations achieved through stemming with those produced by lemmatization."
   ]
  },
  {
   "cell_type": "code",
   "execution_count": 23,
   "metadata": {},
   "outputs": [],
   "source": [
    "from nltk.stem import WordNetLemmatizer\n",
    "from nltk.tokenize import word_tokenize"
   ]
  },
  {
   "cell_type": "code",
   "execution_count": 24,
   "metadata": {},
   "outputs": [],
   "source": [
    "# create a lemmatizer object\n",
    "lemmatizer = WordNetLemmatizer()\n",
    "\n",
    "# define a function to lemmatize each list of words\n",
    "def lemmatize_words(words_list):\n",
    "    lemmatized_words = [lemmatizer.lemmatize(word) for word in words_list]\n",
    "    return lemmatized_words"
   ]
  },
  {
   "cell_type": "code",
   "execution_count": 27,
   "metadata": {
    "scrolled": true
   },
   "outputs": [
    {
     "data": {
      "text/html": [
       "<div>\n",
       "<style scoped>\n",
       "    .dataframe tbody tr th:only-of-type {\n",
       "        vertical-align: middle;\n",
       "    }\n",
       "\n",
       "    .dataframe tbody tr th {\n",
       "        vertical-align: top;\n",
       "    }\n",
       "\n",
       "    .dataframe thead th {\n",
       "        text-align: right;\n",
       "    }\n",
       "</style>\n",
       "<table border=\"1\" class=\"dataframe\">\n",
       "  <thead>\n",
       "    <tr style=\"text-align: right;\">\n",
       "      <th></th>\n",
       "      <th>id</th>\n",
       "      <th>is_duplicate</th>\n",
       "      <th>question1_non_stop</th>\n",
       "      <th>question2_non_stop</th>\n",
       "      <th>question1_stem</th>\n",
       "      <th>question2_stem</th>\n",
       "      <th>question1_lemm</th>\n",
       "      <th>question2_lemm</th>\n",
       "    </tr>\n",
       "  </thead>\n",
       "  <tbody>\n",
       "    <tr>\n",
       "      <th>0</th>\n",
       "      <td>316351</td>\n",
       "      <td>1</td>\n",
       "      <td>[best, business, online]</td>\n",
       "      <td>[best, businesses, online]</td>\n",
       "      <td>[best, busi, onlin]</td>\n",
       "      <td>[best, busi, onlin]</td>\n",
       "      <td>[best, busi, onlin]</td>\n",
       "      <td>[best, busi, onlin]</td>\n",
       "    </tr>\n",
       "    <tr>\n",
       "      <th>1</th>\n",
       "      <td>131099</td>\n",
       "      <td>1</td>\n",
       "      <td>[best, technology]</td>\n",
       "      <td>[best, technologies]</td>\n",
       "      <td>[best, technolog]</td>\n",
       "      <td>[best, technolog]</td>\n",
       "      <td>[best, technolog]</td>\n",
       "      <td>[best, technolog]</td>\n",
       "    </tr>\n",
       "  </tbody>\n",
       "</table>\n",
       "</div>"
      ],
      "text/plain": [
       "       id  is_duplicate        question1_non_stop          question2_non_stop  \\\n",
       "0  316351             1  [best, business, online]  [best, businesses, online]   \n",
       "1  131099             1        [best, technology]        [best, technologies]   \n",
       "\n",
       "        question1_stem       question2_stem       question1_lemm  \\\n",
       "0  [best, busi, onlin]  [best, busi, onlin]  [best, busi, onlin]   \n",
       "1    [best, technolog]    [best, technolog]    [best, technolog]   \n",
       "\n",
       "        question2_lemm  \n",
       "0  [best, busi, onlin]  \n",
       "1    [best, technolog]  "
      ]
     },
     "execution_count": 27,
     "metadata": {},
     "output_type": "execute_result"
    }
   ],
   "source": [
    "# Call up the function that applies lemmatization to our columns in the data frame\n",
    "balanced_df['question1_lemm'] = balanced_df['question1_stem'].apply(lambda x: lemmatize_words(x))\n",
    "balanced_df['question2_lemm'] = balanced_df['question2_stem'].apply(lambda x: lemmatize_words(x))\n",
    "balanced_df.head(2)"
   ]
  },
  {
   "cell_type": "code",
   "execution_count": 28,
   "metadata": {
    "scrolled": true
   },
   "outputs": [
    {
     "data": {
      "text/html": [
       "<div>\n",
       "<style scoped>\n",
       "    .dataframe tbody tr th:only-of-type {\n",
       "        vertical-align: middle;\n",
       "    }\n",
       "\n",
       "    .dataframe tbody tr th {\n",
       "        vertical-align: top;\n",
       "    }\n",
       "\n",
       "    .dataframe thead th {\n",
       "        text-align: right;\n",
       "    }\n",
       "</style>\n",
       "<table border=\"1\" class=\"dataframe\">\n",
       "  <thead>\n",
       "    <tr style=\"text-align: right;\">\n",
       "      <th></th>\n",
       "      <th>id</th>\n",
       "      <th>is_duplicate</th>\n",
       "      <th>question1_lemm</th>\n",
       "      <th>question2_lemm</th>\n",
       "    </tr>\n",
       "  </thead>\n",
       "  <tbody>\n",
       "    <tr>\n",
       "      <th>0</th>\n",
       "      <td>316351</td>\n",
       "      <td>1</td>\n",
       "      <td>[best, busi, onlin]</td>\n",
       "      <td>[best, busi, onlin]</td>\n",
       "    </tr>\n",
       "    <tr>\n",
       "      <th>1</th>\n",
       "      <td>131099</td>\n",
       "      <td>1</td>\n",
       "      <td>[best, technolog]</td>\n",
       "      <td>[best, technolog]</td>\n",
       "    </tr>\n",
       "  </tbody>\n",
       "</table>\n",
       "</div>"
      ],
      "text/plain": [
       "       id  is_duplicate       question1_lemm       question2_lemm\n",
       "0  316351             1  [best, busi, onlin]  [best, busi, onlin]\n",
       "1  131099             1    [best, technolog]    [best, technolog]"
      ]
     },
     "execution_count": 28,
     "metadata": {},
     "output_type": "execute_result"
    }
   ],
   "source": [
    "# Drop previous columns and staying with the lemmatization technique\n",
    "balanced_df = balanced_df.drop(['question1_non_stop', 'question2_non_stop', 'question1_stem', 'question2_stem'], axis=1)\n",
    "balanced_df.head(2)"
   ]
  },
  {
   "cell_type": "markdown",
   "metadata": {},
   "source": [
    "### Defining a single function for preprocessing for future data"
   ]
  },
  {
   "cell_type": "code",
   "execution_count": 63,
   "metadata": {},
   "outputs": [],
   "source": [
    "#remove punctuation\n",
    "def remove_punct(text):\n",
    "    text = \"\".join([char for char in text if char not in string.punctuation])\n",
    "    return text\n",
    "    \n",
    "def preprocess_text(text):\n",
    "    #remove punctuation\n",
    "    text = remove_punct(text)\n",
    "    \n",
    "    # remove extra whitespace\n",
    "    text = re.sub(r'\\s+', ' ', text) \n",
    "    \n",
    "    # Convert text to lowercase\n",
    "    text = text.lower()\n",
    "    \n",
    "    # Tokenize text\n",
    "    words = word_tokenize(text)\n",
    "    \n",
    "    # Remove stop words\n",
    "    stop_words = set(stopwords.words('english'))\n",
    "    words = [word for word in words if word not in stop_words]\n",
    "    \n",
    "    # Stemming\n",
    "    stemmer = PorterStemmer()\n",
    "    words = [stemmer.stem(word) for word in words]\n",
    "    \n",
    "    # Lemmatization\n",
    "    lemmatizer = WordNetLemmatizer()\n",
    "    words = [lemmatizer.lemmatize(word) for word in words]\n",
    "    \n",
    "    # Join words back into a string\n",
    "    text = ' '.join(words)\n",
    "    \n",
    "    return text"
   ]
  },
  {
   "cell_type": "code",
   "execution_count": 32,
   "metadata": {},
   "outputs": [],
   "source": [
    "balanced_df.to_csv('clean_df.csv', index=False)"
   ]
  },
  {
   "cell_type": "code",
   "execution_count": 34,
   "metadata": {},
   "outputs": [
    {
     "data": {
      "text/html": [
       "<div>\n",
       "<style scoped>\n",
       "    .dataframe tbody tr th:only-of-type {\n",
       "        vertical-align: middle;\n",
       "    }\n",
       "\n",
       "    .dataframe tbody tr th {\n",
       "        vertical-align: top;\n",
       "    }\n",
       "\n",
       "    .dataframe thead th {\n",
       "        text-align: right;\n",
       "    }\n",
       "</style>\n",
       "<table border=\"1\" class=\"dataframe\">\n",
       "  <thead>\n",
       "    <tr style=\"text-align: right;\">\n",
       "      <th></th>\n",
       "      <th>id</th>\n",
       "      <th>is_duplicate</th>\n",
       "      <th>question1_lemm</th>\n",
       "      <th>question2_lemm</th>\n",
       "    </tr>\n",
       "  </thead>\n",
       "  <tbody>\n",
       "    <tr>\n",
       "      <th>0</th>\n",
       "      <td>316351</td>\n",
       "      <td>1</td>\n",
       "      <td>[best, busi, onlin]</td>\n",
       "      <td>[best, busi, onlin]</td>\n",
       "    </tr>\n",
       "    <tr>\n",
       "      <th>1</th>\n",
       "      <td>131099</td>\n",
       "      <td>1</td>\n",
       "      <td>[best, technolog]</td>\n",
       "      <td>[best, technolog]</td>\n",
       "    </tr>\n",
       "    <tr>\n",
       "      <th>2</th>\n",
       "      <td>273807</td>\n",
       "      <td>0</td>\n",
       "      <td>[field, subfield, know, mit, harvard, highli, ...</td>\n",
       "      <td>[constantli, profession, overr]</td>\n",
       "    </tr>\n",
       "    <tr>\n",
       "      <th>3</th>\n",
       "      <td>167</td>\n",
       "      <td>0</td>\n",
       "      <td>[correct, look, forward, speak, look, forward,...</td>\n",
       "      <td>[correct, speak, speak]</td>\n",
       "    </tr>\n",
       "    <tr>\n",
       "      <th>4</th>\n",
       "      <td>29186</td>\n",
       "      <td>0</td>\n",
       "      <td>[brand, tom, ford, wear]</td>\n",
       "      <td>[son, want, wear, wed, dress, see, feel, like,...</td>\n",
       "    </tr>\n",
       "    <tr>\n",
       "      <th>...</th>\n",
       "      <td>...</td>\n",
       "      <td>...</td>\n",
       "      <td>...</td>\n",
       "      <td>...</td>\n",
       "    </tr>\n",
       "    <tr>\n",
       "      <th>298521</th>\n",
       "      <td>70366</td>\n",
       "      <td>1</td>\n",
       "      <td>[l, find, locat, person, use, mobil, number]</td>\n",
       "      <td>[track, person, mobil, number]</td>\n",
       "    </tr>\n",
       "    <tr>\n",
       "      <th>298522</th>\n",
       "      <td>76495</td>\n",
       "      <td>1</td>\n",
       "      <td>[secur, code, master, card]</td>\n",
       "      <td>[secur, code, visa, card, use]</td>\n",
       "    </tr>\n",
       "    <tr>\n",
       "      <th>298523</th>\n",
       "      <td>304411</td>\n",
       "      <td>0</td>\n",
       "      <td>[avoid, attract, phone]</td>\n",
       "      <td>[best, way, avoid, phone]</td>\n",
       "    </tr>\n",
       "    <tr>\n",
       "      <th>298524</th>\n",
       "      <td>115240</td>\n",
       "      <td>0</td>\n",
       "      <td>[iphon, 5, receiv, io, 10, upgrad]</td>\n",
       "      <td>[io, 10, releas, iphon, 5]</td>\n",
       "    </tr>\n",
       "    <tr>\n",
       "      <th>298525</th>\n",
       "      <td>255198</td>\n",
       "      <td>1</td>\n",
       "      <td>[23, year, old, late, learn, anoth, languag]</td>\n",
       "      <td>[late, learn, languag, like, spanish, french, ...</td>\n",
       "    </tr>\n",
       "  </tbody>\n",
       "</table>\n",
       "<p>298526 rows × 4 columns</p>\n",
       "</div>"
      ],
      "text/plain": [
       "            id  is_duplicate  \\\n",
       "0       316351             1   \n",
       "1       131099             1   \n",
       "2       273807             0   \n",
       "3          167             0   \n",
       "4        29186             0   \n",
       "...        ...           ...   \n",
       "298521   70366             1   \n",
       "298522   76495             1   \n",
       "298523  304411             0   \n",
       "298524  115240             0   \n",
       "298525  255198             1   \n",
       "\n",
       "                                           question1_lemm  \\\n",
       "0                                     [best, busi, onlin]   \n",
       "1                                       [best, technolog]   \n",
       "2       [field, subfield, know, mit, harvard, highli, ...   \n",
       "3       [correct, look, forward, speak, look, forward,...   \n",
       "4                                [brand, tom, ford, wear]   \n",
       "...                                                   ...   \n",
       "298521       [l, find, locat, person, use, mobil, number]   \n",
       "298522                        [secur, code, master, card]   \n",
       "298523                            [avoid, attract, phone]   \n",
       "298524                 [iphon, 5, receiv, io, 10, upgrad]   \n",
       "298525       [23, year, old, late, learn, anoth, languag]   \n",
       "\n",
       "                                           question2_lemm  \n",
       "0                                     [best, busi, onlin]  \n",
       "1                                       [best, technolog]  \n",
       "2                         [constantli, profession, overr]  \n",
       "3                                 [correct, speak, speak]  \n",
       "4       [son, want, wear, wed, dress, see, feel, like,...  \n",
       "...                                                   ...  \n",
       "298521                     [track, person, mobil, number]  \n",
       "298522                     [secur, code, visa, card, use]  \n",
       "298523                          [best, way, avoid, phone]  \n",
       "298524                         [io, 10, releas, iphon, 5]  \n",
       "298525  [late, learn, languag, like, spanish, french, ...  \n",
       "\n",
       "[298526 rows x 4 columns]"
      ]
     },
     "execution_count": 34,
     "metadata": {},
     "output_type": "execute_result"
    }
   ],
   "source": [
    "balanced_df"
   ]
  },
  {
   "cell_type": "markdown",
   "metadata": {},
   "source": [
    "## Feature Engineering\n",
    "\n",
    "- tf-idf\n",
    "- word2vec\n",
    "- word count\n",
    "- number of the same words in both questions\n",
    "- ...."
   ]
  },
  {
   "cell_type": "code",
   "execution_count": 36,
   "metadata": {},
   "outputs": [],
   "source": [
    "# Split the dataset into X and y variables\n",
    "X = balanced_df[['question1_lemm', 'question2_lemm']]\n",
    "y = balanced_df['is_duplicate']"
   ]
  },
  {
   "cell_type": "markdown",
   "metadata": {},
   "source": [
    "###  tf-idf"
   ]
  },
  {
   "cell_type": "code",
   "execution_count": 37,
   "metadata": {},
   "outputs": [],
   "source": [
    "# import TfidfVectorizer\n",
    "from sklearn.feature_extraction.text import TfidfVectorizer\n",
    "\n",
    "from gensim.models import Word2Vec\n",
    "\n",
    "import string"
   ]
  },
  {
   "cell_type": "code",
   "execution_count": 38,
   "metadata": {},
   "outputs": [],
   "source": [
    "# TFIDF Vectorizer\n",
    "vectorizer = TfidfVectorizer()"
   ]
  },
  {
   "cell_type": "code",
   "execution_count": 39,
   "metadata": {},
   "outputs": [
    {
     "name": "stderr",
     "output_type": "stream",
     "text": [
      "C:\\Users\\farha\\AppData\\Local\\Temp\\ipykernel_1448\\3077633554.py:1: SettingWithCopyWarning: \n",
      "A value is trying to be set on a copy of a slice from a DataFrame.\n",
      "Try using .loc[row_indexer,col_indexer] = value instead\n",
      "\n",
      "See the caveats in the documentation: https://pandas.pydata.org/pandas-docs/stable/user_guide/indexing.html#returning-a-view-versus-a-copy\n",
      "  X['len_question1'] = X['question1_lemm'].apply(lambda x: len(x))\n"
     ]
    }
   ],
   "source": [
    "X['len_question1'] = X['question1_lemm'].apply(lambda x: len(x))\n",
    "X['len_question2'] = X['question2_lemm'].apply(lambda x: len(x))"
   ]
  },
  {
   "cell_type": "code",
   "execution_count": 40,
   "metadata": {},
   "outputs": [],
   "source": [
    "X['question1_lemm'] = X['question1_lemm'].apply(lambda x: ' '.join([str(elem) for elem in x]))\n",
    "X['question2_lemm'] = X['question2_lemm'].apply(lambda x: ' '.join([str(elem) for elem in x]))"
   ]
  },
  {
   "cell_type": "code",
   "execution_count": 41,
   "metadata": {},
   "outputs": [],
   "source": [
    "X['word_diff'] = X.apply(lambda x: abs(x['len_question1']-x['len_question2']), axis=1)"
   ]
  },
  {
   "cell_type": "code",
   "execution_count": 42,
   "metadata": {
    "scrolled": true
   },
   "outputs": [
    {
     "data": {
      "text/html": [
       "<div>\n",
       "<style scoped>\n",
       "    .dataframe tbody tr th:only-of-type {\n",
       "        vertical-align: middle;\n",
       "    }\n",
       "\n",
       "    .dataframe tbody tr th {\n",
       "        vertical-align: top;\n",
       "    }\n",
       "\n",
       "    .dataframe thead th {\n",
       "        text-align: right;\n",
       "    }\n",
       "</style>\n",
       "<table border=\"1\" class=\"dataframe\">\n",
       "  <thead>\n",
       "    <tr style=\"text-align: right;\">\n",
       "      <th></th>\n",
       "      <th>question1_lemm</th>\n",
       "      <th>question2_lemm</th>\n",
       "      <th>len_question1</th>\n",
       "      <th>len_question2</th>\n",
       "      <th>word_diff</th>\n",
       "    </tr>\n",
       "  </thead>\n",
       "  <tbody>\n",
       "    <tr>\n",
       "      <th>0</th>\n",
       "      <td>best busi onlin</td>\n",
       "      <td>best busi onlin</td>\n",
       "      <td>3</td>\n",
       "      <td>3</td>\n",
       "      <td>0</td>\n",
       "    </tr>\n",
       "    <tr>\n",
       "      <th>1</th>\n",
       "      <td>best technolog</td>\n",
       "      <td>best technolog</td>\n",
       "      <td>2</td>\n",
       "      <td>2</td>\n",
       "      <td>0</td>\n",
       "    </tr>\n",
       "  </tbody>\n",
       "</table>\n",
       "</div>"
      ],
      "text/plain": [
       "    question1_lemm   question2_lemm  len_question1  len_question2  word_diff\n",
       "0  best busi onlin  best busi onlin              3              3          0\n",
       "1   best technolog   best technolog              2              2          0"
      ]
     },
     "execution_count": 42,
     "metadata": {},
     "output_type": "execute_result"
    }
   ],
   "source": [
    "X.head(2)"
   ]
  },
  {
   "cell_type": "code",
   "execution_count": 44,
   "metadata": {},
   "outputs": [],
   "source": [
    "# convert question1_lemm,question2_lemm from text to features\n",
    "X_vectorized= vectorizer.fit_transform(X['question1_lemm'] + X['question2_lemm'])"
   ]
  },
  {
   "cell_type": "code",
   "execution_count": 48,
   "metadata": {},
   "outputs": [],
   "source": [
    "from sklearn.model_selection import train_test_split"
   ]
  },
  {
   "cell_type": "code",
   "execution_count": 49,
   "metadata": {},
   "outputs": [],
   "source": [
    "# Split the data into train and test sets\n",
    "X_train, X_test, y_train, y_test = train_test_split(X_vectorized, y, test_size=0.2, random_state=50)"
   ]
  },
  {
   "cell_type": "code",
   "execution_count": 50,
   "metadata": {
    "scrolled": false
   },
   "outputs": [
    {
     "data": {
      "text/plain": [
       "<298526x220828 sparse matrix of type '<class 'numpy.float64'>'\n",
       "\twith 2305451 stored elements in Compressed Sparse Row format>"
      ]
     },
     "execution_count": 50,
     "metadata": {},
     "output_type": "execute_result"
    }
   ],
   "source": [
    "X_vectorized"
   ]
  },
  {
   "cell_type": "markdown",
   "metadata": {},
   "source": [
    "### Modeling\n",
    "\n",
    "Different modeling techniques can be used:\n",
    "\n",
    "- logistic regression\n",
    "- XGBoost\n",
    "- LSTMs\n",
    "- etc"
   ]
  },
  {
   "cell_type": "markdown",
   "metadata": {},
   "source": [
    "#### Logistic Regression"
   ]
  },
  {
   "cell_type": "code",
   "execution_count": 51,
   "metadata": {},
   "outputs": [],
   "source": [
    "from sklearn.metrics import classification_report"
   ]
  },
  {
   "cell_type": "code",
   "execution_count": 52,
   "metadata": {},
   "outputs": [],
   "source": [
    "from sklearn.metrics import precision_score, recall_score, f1_score"
   ]
  },
  {
   "cell_type": "code",
   "execution_count": 53,
   "metadata": {},
   "outputs": [
    {
     "name": "stdout",
     "output_type": "stream",
     "text": [
      "Accuracy: 0.7251867484004958\n"
     ]
    },
    {
     "data": {
      "text/plain": [
       "Text(113.9222222222222, 0.5, 'predicted label')"
      ]
     },
     "execution_count": 53,
     "metadata": {},
     "output_type": "execute_result"
    },
    {
     "data": {
      "image/png": "[encoded data removed]",
      "text/plain": [
       "<Figure size 640x480 with 1 Axes>"
      ]
     },
     "metadata": {},
     "output_type": "display_data"
    }
   ],
   "source": [
    "from sklearn.linear_model import LogisticRegression\n",
    "from sklearn.metrics import accuracy_score\n",
    "\n",
    "# create a logistic regression model\n",
    "model = LogisticRegression(max_iter=1000)\n",
    "\n",
    "# fit the model to the training data\n",
    "model.fit(X_train, y_train)\n",
    "\n",
    "# make predictions on the test data\n",
    "y_pred = model.predict(X_test)\n",
    "\n",
    "# Calculate the accuracy\n",
    "accuracy = accuracy_score(y_test, y_pred)\n",
    "\n",
    "print(\"Accuracy:\", accuracy)\n",
    "\n",
    "from sklearn.metrics import confusion_matrix\n",
    "mat = confusion_matrix(y_test, y_pred)\n",
    "sns.heatmap(mat.T, square=True, annot=True, fmt='d', cbar=False)\n",
    "plt.xlabel('true label')\n",
    "plt.ylabel('predicted label')"
   ]
  },
  {
   "cell_type": "markdown",
   "metadata": {},
   "source": [
    "#### XGBOOST"
   ]
  },
  {
   "cell_type": "code",
   "execution_count": 54,
   "metadata": {},
   "outputs": [
    {
     "name": "stdout",
     "output_type": "stream",
     "text": [
      "Accuracy: 0.6874853448564633\n"
     ]
    },
    {
     "data": {
      "text/plain": [
       "Text(113.9222222222222, 0.5, 'predicted label')"
      ]
     },
     "execution_count": 54,
     "metadata": {},
     "output_type": "execute_result"
    },
    {
     "data": {
      "image/png": "[encoded data removed]",
      "text/plain": [
       "<Figure size 640x480 with 1 Axes>"
      ]
     },
     "metadata": {},
     "output_type": "display_data"
    }
   ],
   "source": [
    "import xgboost as xgb\n",
    "from sklearn.metrics import accuracy_score\n",
    "\n",
    "# create DMatrix objects for XGBoost\n",
    "dtrain = xgb.DMatrix(X_train, label=y_train)\n",
    "dtest = xgb.DMatrix(X_test)\n",
    "\n",
    "# set XGBoost parameters\n",
    "params = {'objective': 'binary:logistic', 'eval_metric': 'error', 'max_depth': 5}\n",
    "\n",
    "# train XGBoost model\n",
    "num_rounds = 100\n",
    "xgb_model = xgb.train(params, dtrain, num_rounds)\n",
    "\n",
    "# make predictions on test data\n",
    "y_pred = xgb_model.predict(dtest)\n",
    "\n",
    "# round predictions to the nearest integer\n",
    "y_pred = [int(round(pred)) for pred in y_pred]\n",
    "\n",
    "# calculate accuracy score\n",
    "accuracy = accuracy_score(y_test, y_pred)\n",
    "print('Accuracy:', accuracy)\n",
    "\n",
    "from sklearn.metrics import confusion_matrix\n",
    "mat = confusion_matrix(y_test, y_pred)\n",
    "sns.heatmap(mat.T, square=True, annot=True, fmt='d', cbar=False)\n",
    "plt.xlabel('true label')\n",
    "plt.ylabel('predicted label')"
   ]
  },
  {
   "cell_type": "markdown",
   "metadata": {},
   "source": [
    "#### Naive Bayes"
   ]
  },
  {
   "cell_type": "code",
   "execution_count": 55,
   "metadata": {},
   "outputs": [],
   "source": [
    "from sklearn.naive_bayes import GaussianNB"
   ]
  },
  {
   "cell_type": "code",
   "execution_count": 56,
   "metadata": {},
   "outputs": [],
   "source": [
    "from sklearn.naive_bayes import MultinomialNB\n",
    "\n",
    "def naive_bayes(X_train, X_test, y_train, y_test):\n",
    "    # Create a Multinomial Naive Bayes classifier\n",
    "    nb_classifier = MultinomialNB()\n",
    "    \n",
    "    # Train the classifier on the training data\n",
    "    nb_classifier.fit(X_train, y_train)\n",
    "\n",
    "    # Use the trained classifier to make predictions on the test data\n",
    "    y_pred = nb_classifier.predict(X_test)\n",
    "\n",
    "    # Compute and print the accuracy of the classifier\n",
    "    accuracy = (y_pred == y_test).mean()\n",
    "    print(\"Accuracy:\", accuracy)\n",
    "    \n",
    "    from sklearn.metrics import confusion_matrix\n",
    "    mat = confusion_matrix(y_test, y_pred)\n",
    "    sns.heatmap(mat.T, square=True, annot=True, fmt='d', cbar=False)\n",
    "    plt.xlabel('true label')\n",
    "    plt.ylabel('predicted label')"
   ]
  },
  {
   "cell_type": "code",
   "execution_count": 57,
   "metadata": {},
   "outputs": [
    {
     "name": "stdout",
     "output_type": "stream",
     "text": [
      "Accuracy: 0.7243828090979131\n"
     ]
    },
    {
     "data": {
      "image/png": "[encoded data removed]",
      "text/plain": [
       "<Figure size 640x480 with 1 Axes>"
      ]
     },
     "metadata": {},
     "output_type": "display_data"
    }
   ],
   "source": [
    "naive_bayes(X_train, X_test, y_train, y_test)"
   ]
  },
  {
   "cell_type": "markdown",
   "metadata": {},
   "source": [
    "#### LSTMs"
   ]
  },
  {
   "cell_type": "code",
   "execution_count": 58,
   "metadata": {},
   "outputs": [],
   "source": [
    "import tensorflow as tf\n"
   ]
  },
  {
   "cell_type": "code",
   "execution_count": 59,
   "metadata": {
    "scrolled": true
   },
   "outputs": [
    {
     "name": "stdout",
     "output_type": "stream",
     "text": [
      "Epoch 1/5\n",
      "782/782 [==============================] - 19s 23ms/step - loss: 0.6446 - accuracy: 0.6066 - val_loss: 0.6534 - val_accuracy: 0.5992\n",
      "Epoch 2/5\n",
      "782/782 [==============================] - 20s 26ms/step - loss: 0.5578 - accuracy: 0.6900 - val_loss: 0.6837 - val_accuracy: 0.5912\n",
      "Epoch 3/5\n",
      "782/782 [==============================] - 21s 27ms/step - loss: 0.4968 - accuracy: 0.7278 - val_loss: 0.7248 - val_accuracy: 0.5917\n",
      "Epoch 4/5\n",
      "782/782 [==============================] - 20s 26ms/step - loss: 0.4212 - accuracy: 0.7678 - val_loss: 0.8803 - val_accuracy: 0.5898\n",
      "Epoch 5/5\n",
      "782/782 [==============================] - 22s 28ms/step - loss: 0.3472 - accuracy: 0.8096 - val_loss: 1.0799 - val_accuracy: 0.5913\n"
     ]
    }
   ],
   "source": [
    "import tensorflow as tf\n",
    "from tensorflow import keras\n",
    "from tensorflow.keras.datasets import imdb\n",
    "from tensorflow.keras.models import Sequential\n",
    "from tensorflow.keras.layers import Dense, Dropout, Activation\n",
    "from tensorflow.keras.preprocessing.text import Tokenizer\n",
    "from tensorflow.keras.preprocessing.sequence import pad_sequences\n",
    "\n",
    "# Load the IMDB dataset\n",
    "(X_train, y_train), (X_test, y_test) = imdb.load_data(num_words=10000)\n",
    "\n",
    "# Combine the training and testing data\n",
    "X = np.concatenate((X_train, X_test), axis=0)\n",
    "y = np.concatenate((y_train, y_test), axis=0)\n",
    "\n",
    "# Set the maximum length to the length of the longest review\n",
    "maxlen = max([len(x) for x in X])\n",
    "\n",
    "# Preprocess the data\n",
    "tokenizer = Tokenizer(num_words=10000)\n",
    "X = tokenizer.sequences_to_matrix(X, mode='binary')\n",
    "X = pad_sequences(X, maxlen=maxlen)\n",
    "\n",
    "# Split the data back into training and testing sets\n",
    "X_train = X[:len(X_train)]\n",
    "X_test = X[len(X_train):]\n",
    "\n",
    "# Create the model\n",
    "model = Sequential()\n",
    "model.add(Dense(512, input_shape=(maxlen,), activation='relu'))\n",
    "model.add(Dropout(0.5))\n",
    "model.add(Dense(256, activation='relu'))\n",
    "model.add(Dropout(0.5))\n",
    "model.add(Dense(1, activation='sigmoid'))\n",
    "\n",
    "model.compile(loss='binary_crossentropy', optimizer='adam', metrics=['accuracy'])\n",
    "\n",
    "# Train the model\n",
    "history = model.fit(X_train, y_train, epochs=5, batch_size=32, validation_data=(X_test, y_test))"
   ]
  },
  {
   "cell_type": "code",
   "execution_count": 60,
   "metadata": {},
   "outputs": [
    {
     "name": "stdout",
     "output_type": "stream",
     "text": [
      "782/782 [==============================] - 5s 6ms/step - loss: 1.0799 - accuracy: 0.5913\n",
      "Test loss: 1.0799059867858887\n",
      "Test accuracy: 0.5912799835205078\n"
     ]
    }
   ],
   "source": [
    "loss, accuracy = model.evaluate(X_test, y_test)\n",
    "print(\"Test loss:\", loss)\n",
    "print(\"Test accuracy:\", accuracy)"
   ]
  },
  {
   "cell_type": "markdown",
   "metadata": {},
   "source": [
    "#### Random Forest"
   ]
  },
  {
   "cell_type": "code",
   "execution_count": 61,
   "metadata": {},
   "outputs": [],
   "source": [
    "from keras import backend as K\n",
    "\n",
    "# Define the function to extract the learned features from the model\n",
    "get_features = K.function([model.layers[0].input], [model.layers[-2].output])\n",
    "\n",
    "# Extract the learned features from the training and test sets\n",
    "X_train_features = get_features([X_train])[0]\n",
    "X_test_features = get_features([X_test])[0]"
   ]
  },
  {
   "cell_type": "code",
   "execution_count": 62,
   "metadata": {},
   "outputs": [
    {
     "name": "stdout",
     "output_type": "stream",
     "text": [
      "Random Forest accuracy: 0.58532\n"
     ]
    }
   ],
   "source": [
    "from sklearn.ensemble import RandomForestClassifier\n",
    "\n",
    "# Train a random forest classifier on the extracted features\n",
    "rf = RandomForestClassifier(n_estimators=100, random_state=42)\n",
    "rf.fit(X_train_features, y_train)\n",
    "\n",
    "# Evaluate the random forest classifier on the test set\n",
    "accuracy = rf.score(X_test_features, y_test)\n",
    "print(\"Random Forest accuracy:\", accuracy)"
   ]
  }
 ],
 "metadata": {
  "kernelspec": {
   "display_name": "Python 3 (ipykernel)",
   "language": "python",
   "name": "python3"
  },
  "language_info": {
   "codemirror_mode": {
    "name": "ipython",
    "version": 3
   },
   "file_extension": ".py",
   "mimetype": "text/x-python",
   "name": "python",
   "nbconvert_exporter": "python",
   "pygments_lexer": "ipython3",
   "version": "3.9.13"
  }
 },
 "nbformat": 4,
 "nbformat_minor": 4
}
